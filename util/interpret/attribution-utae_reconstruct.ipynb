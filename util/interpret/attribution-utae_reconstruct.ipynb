{
 "cells": [
  {
   "cell_type": "code",
   "execution_count": 7,
   "id": "8cf62735",
   "metadata": {},
   "outputs": [
    {
     "name": "stdout",
     "output_type": "stream",
     "text": [
      "/home/eco04/Documents/uzh_tum/util/interpret\n",
      "['/home/eco04/Documents/uzh_tum/util/interpret', '/usr/lib/python39.zip', '/usr/lib/python3.9', '/usr/lib/python3.9/lib-dynload', '', '/home/eco04/.local/lib/python3.9/site-packages', '/usr/local/lib/python3.9/dist-packages', '/usr/lib/python3/dist-packages', '/usr/lib/python3.9/dist-packages', '/home/eco04/Documents/uzh_tum/models/utae-paps', '/home/eco04/Documents/uzh_tum/util', '/home/eco04/Documents/uzh_tum', '/home/eco04/Documents/uzh_tum/util', '/home/eco04/Documents/uzh_tum', '/home/eco04/Documents/uzh_tum', '/home/eco04/Documents/uzh_tum/util/covweighting', '/home/eco04/Documents/uzh_tum', '/home/eco04/Documents/uzh_tum', '/home/eco04/Documents/uzh_tum/models/utae-paps', '/home/eco04/Documents/uzh_tum/util', '/home/eco04/Documents/uzh_tum', '/home/eco04/Documents/uzh_tum', '/home/eco04/Documents/uzh_tum/util/covweighting', '/home/eco04/Documents/uzh_tum/models/utae-paps', '/home/eco04/Documents/uzh_tum/util', '/home/eco04/Documents/uzh_tum', '/home/eco04/Documents/uzh_tum', '/home/eco04/Documents/uzh_tum/util/covweighting', '/home/eco04/Documents/uzh_tum/models/utae-paps', '/home/eco04/Documents/uzh_tum/util', '/home/eco04/Documents/uzh_tum', '/home/eco04/Documents/uzh_tum/models/utae-paps', '/home/eco04/Documents/uzh_tum/util', '/home/eco04/Documents/uzh_tum', '/home/eco04/Documents/uzh_tum/models/utae-paps', '/home/eco04/Documents/uzh_tum/util', '/home/eco04/Documents/uzh_tum', '/home/eco04/Documents/uzh_tum/models/utae-paps', '/home/eco04/Documents/uzh_tum/util', '/home/eco04/Documents/uzh_tum']\n"
     ]
    }
   ],
   "source": [
    "import torch\n",
    "import json\n",
    "import os\n",
    "import sys\n",
    "import types\n",
    "from argparse import Namespace\n",
    "\n",
    "### FILL THESE VALUES ###\n",
    "\n",
    "PATH_TO_REPO         = os.path.expanduser('~/Documents/uzh_tum/models/utae-paps') # '/home/eco03/github/utae-paps/'\n",
    "PATH_TO_DATA         = os.path.expanduser('~/Data/SEN12MSCRTS_val_test')\n",
    "\n",
    "experiment_name      = 'utae_S1S2_L1SSIM_europe'\n",
    "PATH_TO_UTAE_WEIGHTS = os.path.join(os.path.expanduser('~/Documents/uzh_tum/models/utae-paps/results'), experiment_name) # '/home/eco03/DATA/UTAE_zenodo/'\n",
    "device               = 'cuda' # or \"cpu\"\n",
    "\n",
    "#######\n",
    "\n",
    "import matplotlib.pyplot as plt\n",
    "from matplotlib.colors import Colormap, ListedColormap\n",
    "import matplotlib\n",
    "\n",
    "from matplotlib import patches\n",
    "import numpy as np\n",
    "\n",
    "print(os.getcwd())\n",
    "sys.path.append(PATH_TO_REPO) \n",
    "sys.path.append(os.path.dirname(os.getcwd()))\n",
    "sys.path.append(os.path.dirname(os.path.dirname(os.getcwd())))\n",
    "print(sys.path)\n",
    "#sys.path.append(os.path.join(os.path.dirname(os.path.dirname(os.getcwd()))), 'util','covweighting')\n",
    "\n",
    "from src.backbones.utae import UTAE\n",
    "from src.panoptic.paps import PaPs\n",
    "#from src.dataset import PASTIS_Dataset\n",
    "#from train_panoptic import recursive_todevice\n",
    "#from train_reconstruct import recursive_todevice#, prepare_data\n",
    "from src.utils import pad_collate\n",
    "from src.model_utils import get_model\n",
    "from data.dataLoader import SEN12MSCRTS\n",
    "\n",
    "from captum.attr import IntegratedGradients\n",
    "from sklearn.linear_model import LinearRegression\n",
    "\n",
    "import cv2 as cv\n",
    "\n",
    "import warnings\n",
    "warnings.filterwarnings('ignore')\n",
    "\n",
    "\n",
    "# Colormap (same as in the paper)\n",
    "cm = matplotlib.cm.get_cmap('tab20')\n",
    "def_colors = cm.colors\n",
    "cus_colors = ['k'] + [def_colors[i] for i in range(1,19)]+['w']\n",
    "cmap = ListedColormap(colors = cus_colors, name='agri',N=20)\n",
    "\n",
    "from matplotlib.colors import LinearSegmentedColormap\n",
    "colors = []\n",
    "for l in np.linspace(1,0,100):\n",
    "    colors.append((245/255,39/255,87/255,l))\n",
    "for l in np.linspace(0,1,100):\n",
    "    colors.append((24/255,196/255,93/255,l))\n",
    "redgreen = LinearSegmentedColormap.from_list('shap', colors)\n",
    "\n",
    "label_names = [\n",
    "'Background',\n",
    "'Meadow',\n",
    "'Soft winter wheat',\n",
    "'Corn',\n",
    "'Winter barley',\n",
    "'Winter rapeseed',\n",
    "'Spring barley',\n",
    "'Sunflower',\n",
    "'Grapevine',\n",
    "'Beet',\n",
    " 'Winter triticale',\n",
    " 'Winter durum wheat',\n",
    " 'Fruits,  vegetables, flowers',\n",
    " 'Potatoes',\n",
    " 'Leguminous fodder',\n",
    " 'Soybeans',\n",
    " 'Orchard',\n",
    " 'Mixed cereal',\n",
    " 'Sorghum',\n",
    " 'Void label']\n"
   ]
  },
  {
   "cell_type": "code",
   "execution_count": 8,
   "id": "717879f3",
   "metadata": {},
   "outputs": [
    {
     "name": "stdout",
     "output_type": "stream",
     "text": [
      "Detected 11 keypoints.\n"
     ]
    },
    {
     "data": {
      "image/png": "[encoded data removed]",
      "text/plain": [
       "<Figure size 432x288 with 1 Axes>"
      ]
     },
     "metadata": {
      "needs_background": "light"
     },
     "output_type": "display_data"
    }
   ],
   "source": [
    "img = cv.imread(os.path.expanduser('~/Documents/uzh_tum/models/utae-paps/results/utae_SSIM/plots/epoch_185/train/img-2_target_t-0.png'))\n",
    "gray= cv.cvtColor(img,cv.COLOR_BGR2GRAY)\n",
    "# initiate a SIFT instance, see https://docs.opencv.org/3.4/d7/d60/classcv_1_1SIFT.html\n",
    "sift = cv.SIFT_create(nfeatures=10, contrastThreshold=0.01,edgeThreshold=10) # only keep top-10 keypoints, sorted by local contrast score \n",
    "kp = sift.detect(gray,None) # TODO: You can pass a mask if you want to search only a part of image.\n",
    "print(f'Detected {len(kp)} keypoints.')\n",
    "img=cv.drawKeypoints(gray,kp,img)\n",
    "cv.imwrite(os.path.expanduser('~/Documents/sift_keypoints.jpg'),img)\n",
    "imgplot = plt.imshow(img)\n",
    "plt.show()"
   ]
  },
  {
   "cell_type": "code",
   "execution_count": 9,
   "id": "d828f2cb",
   "metadata": {},
   "outputs": [],
   "source": [
    "def recursive_todevice(x, device):\n",
    "    if isinstance(x, torch.Tensor):\n",
    "        return x.to(device)\n",
    "    elif isinstance(x, dict):\n",
    "        return {k: recursive_todevice(v, device) for k, v in x.items()}\n",
    "    else:\n",
    "        return [recursive_todevice(c, device) for c in x]\n",
    "\n",
    "def prepare_data(batch, device, config):\n",
    "    in_S2 = recursive_todevice(batch['input']['S2'], device)\n",
    "    in_S2_td = recursive_todevice(batch['input']['S2 TD'], device)\n",
    "    if config.batch_size>1: in_S2_td = torch.stack((in_S2_td)).T\n",
    "    in_m  = torch.stack(recursive_todevice(batch['input']['masks'], device)).swapaxes(0,1)\n",
    "    #target_S1 = recursive_todevice(batch['target']['S1'], device)\n",
    "    target_S2 = recursive_todevice(batch['target']['S2'], device)\n",
    "    #target_S1_td = recursive_todevice(batch['target']['S1 TD'], device)\n",
    "    #target_S2_td = recursive_todevice(batch['target']['S2 TD'], device)\n",
    "    #target_m  = recursive_todevice(batch['target']['masks'], device)\n",
    "    y     = torch.cat(target_S2,dim=0).unsqueeze(1)\n",
    "\n",
    "    if config.use_sar: \n",
    "        in_S1 = recursive_todevice(batch['input']['S1'], device)\n",
    "        in_S1_td = recursive_todevice(batch['input']['S1 TD'], device)\n",
    "        if config.batch_size>1: in_S1_td = torch.stack((in_S1_td)).T\n",
    "        x     = torch.cat((torch.stack(in_S1,dim=1), torch.stack(in_S2,dim=1)),dim=2)\n",
    "        dates = torch.stack((torch.tensor(in_S1_td),torch.tensor(in_S2_td))).float().mean(dim=0).to(device)\n",
    "    else:\n",
    "        x     = torch.stack(in_S2,dim=1)\n",
    "        dates = torch.tensor(in_S2_td).float().to(device)\n",
    "\n",
    "    if config.input_size < 256: # batch sub-samples if mosaicing patches\n",
    "        x_mosaic = x.unfold(4, config.input_size, config.input_size).unfold(3, config.input_size, config.input_size)\n",
    "        x_batch  = x_mosaic.reshape(-1, config.input_t, x.shape[2], config.input_size, config.input_size).swapaxes(-1,-2)\n",
    "        y_mosaic = y.unfold(4, config.input_size, config.input_size).unfold(3, config.input_size, config.input_size)\n",
    "        y_batch  = y_mosaic.reshape(-1, 1, y.shape[2], config.input_size, config.input_size).swapaxes(-1,-2)\n",
    "        m_mosaic = in_m.unfold(3, config.input_size, config.input_size).unfold(2, config.input_size, config.input_size)\n",
    "        m_batch  = m_mosaic.reshape(-1, config.input_t, config.input_size, config.input_size).swapaxes(-1,-2)\n",
    "\n",
    "        x, y, in_m, dates = x_batch, y_batch, m_batch, dates.expand(x_batch.shape[0],-1)\n",
    "    return x, y, in_m, dates"
   ]
  },
  {
   "cell_type": "code",
   "execution_count": 10,
   "id": "7e1d9bf5",
   "metadata": {},
   "outputs": [],
   "source": [
    "def load_model(path, device, fold=0, mode='reconstruct', add_args=None):\n",
    "    \"\"\"Load pre-trained model\"\"\"\n",
    "    with open(os.path.join(path, 'conf.json')) as file:\n",
    "        config = json.loads(file.read())\n",
    "        \n",
    "    if add_args is not None:\n",
    "        config = {**config, **add_args}\n",
    "    config = Namespace(**config)\n",
    "    model = get_model(config, mode = mode).to(device)\n",
    "\n",
    "    sd = torch.load(\n",
    "        #os.path.join(path, \"Fold_{}\".format(fold+1), \"model.pth.tar\"),\n",
    "        os.path.join(path, \"model.pth.tar\"),\n",
    "        map_location=device\n",
    "        )\n",
    "    model.load_state_dict(sd['state_dict'])\n",
    "    \n",
    "    \n",
    "    return model\n",
    "\n",
    "def get_rgb(x,b=0,t_show=6):\n",
    "    \"\"\"Gets an observation from a time series and normalises it for visualisation.\"\"\"\n",
    "    im = x[b,t_show,[2,1,0]].cpu().numpy()\n",
    "    mx = im.max(axis=(1,2))\n",
    "    mi = im.min(axis=(1,2))   \n",
    "    im = (im - mi[:,None,None])/(mx - mi)[:,None,None]\n",
    "    im = im.swapaxes(0,2).swapaxes(0,1)\n",
    "    im = np.clip(im, a_max=1, a_min=0)\n",
    "    return im"
   ]
  },
  {
   "cell_type": "code",
   "execution_count": 11,
   "id": "c54d0ac4",
   "metadata": {},
   "outputs": [
    {
     "name": "stdout",
     "output_type": "stream",
     "text": [
      "\n",
      "Processing paths for train split of region europa\n"
     ]
    },
    {
     "name": "stderr",
     "output_type": "stream",
     "text": [
      "100%|███████| 1/1 [00:00<00:00, 36.82it/s]\n",
      "100%|█████| 14/14 [00:07<00:00,  1.79it/s]\n",
      "100%|█████| 21/21 [00:23<00:00,  1.11s/it]\n",
      "100%|█████| 17/17 [00:03<00:00,  5.12it/s]\n"
     ]
    },
    {
     "name": "stdout",
     "output_type": "stream",
     "text": [
      "\n",
      "Processing paths for val split of region europa\n"
     ]
    },
    {
     "name": "stderr",
     "output_type": "stream",
     "text": [
      "100%|██████| 1/1 [00:00<00:00, 121.37it/s]\n",
      "100%|█████| 14/14 [00:00<00:00, 33.22it/s]\n",
      "100%|██| 21/21 [00:00<00:00, 78854.42it/s]\n",
      "100%|██| 17/17 [00:00<00:00, 29946.73it/s]\n"
     ]
    },
    {
     "name": "stdout",
     "output_type": "stream",
     "text": [
      "\n",
      "Processing paths for test split of region europa\n"
     ]
    },
    {
     "name": "stderr",
     "output_type": "stream",
     "text": [
      "100%|████| 1/1 [00:00<00:00, 23967.45it/s]\n",
      "100%|█████| 14/14 [00:00<00:00, 38.93it/s]\n",
      "100%|█████| 21/21 [00:00<00:00, 56.25it/s]\n",
      "100%|█████| 17/17 [00:01<00:00, 15.05it/s]\n"
     ]
    }
   ],
   "source": [
    "# Load dataset and models\n",
    "\n",
    "fold = 0\n",
    "batch_size = 1\n",
    "root1 = '/media/DATA/SEN12MSCRTS'\n",
    "root2 = '~/Data/SEN12MSCRTS_val_test'\n",
    "region = \"europa\"\n",
    "sample_type = \"cloudy_cloudfree\"\n",
    "input_t = 3\n",
    "use_sar = True\n",
    "patch_size = 256\n",
    "#dt = PASTIS_Dataset(folder=PATH_TO_DATA, norm=True, target='instance', folds=[fold],)\n",
    "#dl = torch.utils.data.DataLoader(dt, batch_size=batch_size, shuffle=True, collate_fn=pad_collate)\n",
    "\n",
    "dt_train    = SEN12MSCRTS(os.path.expanduser(root1), split='train', region=region, sample_type=sample_type , n_input_samples=input_t, import_data_path=None)\n",
    "dt_val      = SEN12MSCRTS(os.path.expanduser(root2), split='val', region=region, sample_type=sample_type , n_input_samples=input_t, import_data_path=None) \n",
    "dt_test     = SEN12MSCRTS(os.path.expanduser(root2), split='test', region=region, sample_type=sample_type , n_input_samples=input_t, import_data_path=None)\n",
    "\n",
    "dl = torch.utils.data.DataLoader(\n",
    "    dt_test,\n",
    "    batch_size=batch_size,\n",
    "    shuffle=False,\n",
    "    #num_workers=num_workers,\n",
    "    #drop_last=True,\n",
    "    #collate_fn=collate_fn,\n",
    ")\n",
    "\n",
    "iterator =  dl.__iter__()\n",
    "device = torch.device(device)\n",
    "\n",
    "\n",
    "utae = load_model(PATH_TO_UTAE_WEIGHTS, device=device, fold=fold, mode='reconstruct', add_args=dict(positional_encoding=False)).eval()"
   ]
  },
  {
   "cell_type": "code",
   "execution_count": 14,
   "id": "9312f709",
   "metadata": {},
   "outputs": [],
   "source": [
    "#batch = recursive_todevice(iterator.__next__(), device)\n",
    "#(x, dates), y = batch\n",
    "\n",
    "batch  = iterator.__next__()\n",
    "config = types.SimpleNamespace()\n",
    "for adx, attr in enumerate(['batch_size', 'use_sar', 'input_size']):\n",
    "    setattr(config, attr, [batch_size, use_sar, patch_size][adx])\n",
    "x, y, in_m, dates = prepare_data(batch, device, config)"
   ]
  },
  {
   "cell_type": "code",
   "execution_count": 16,
   "id": "1ee1ac01",
   "metadata": {},
   "outputs": [
    {
     "name": "stdout",
     "output_type": "stream",
     "text": [
      "torch.Size([1, 1, 13, 256, 256])\n"
     ]
    }
   ],
   "source": [
    "ig = IntegratedGradients(utae.eval())\n",
    "\n",
    "## Baseline: \n",
    "#B,T,C,H,W = x.shape\n",
    "#baselines = dt.norm['S2'][0].unsqueeze(0).unsqueeze(0).unsqueeze(-1).unsqueeze(-1).to(device)\n",
    "#baselines = baselines.repeat((B,T,1,H,W))\n",
    "baselines = torch.zeros(x.shape,device=device)\n",
    "print(y.shape)"
   ]
  },
  {
   "cell_type": "code",
   "execution_count": null,
   "id": "d1b9cd00",
   "metadata": {},
   "outputs": [],
   "source": [
    "ig = IntegratedGradients(utae.eval())\n",
    "\n",
    "## Baseline: \n",
    "#B,T,C,H,W = x.shape\n",
    "#baselines = dt.norm['S2'][0].unsqueeze(0).unsqueeze(0).unsqueeze(-1).unsqueeze(-1).to(device)\n",
    "#baselines = baselines.repeat((B,T,1,H,W))\n",
    "baselines = torch.zeros(x.shape,device=device)\n",
    "\n",
    "target = y[:,:,:,-1] # TODO\n",
    "n      = 1           # batch sample to analyze\n",
    "t      = input_t     # time points to consider, with [0, ..., t]\n",
    "h,w    = 32, 32      # position of px to be explained\n",
    "\n",
    "\n",
    "\n",
    "pixel_i = 15\n",
    "pixel_j = 20\n",
    "pixel_class = target[0, pixel_i, pixel_j].long()\n",
    "\n",
    "torch.cuda.empty_cache()\n",
    "attributions = ig.attribute(inputs=x[:n,:t,:,:h,:h], \n",
    "                            baselines=baselines[:n,:t,:,:h,:h], \n",
    "                            target=(pixel_class, pixel_i, pixel_j), \n",
    "                            additional_forward_args=dates[:n,:t])"
   ]
  },
  {
   "cell_type": "code",
   "execution_count": null,
   "id": "f91a246f",
   "metadata": {},
   "outputs": [],
   "source": [
    "with torch.no_grad():\n",
    "    sempred , attention = utae(x[:1,:t], batch_positions=dates[:1,:t], return_att=True)\n",
    "    \n",
    "sempred = sempred.argmax(dim=1)[0].cpu()\n",
    "at = attributions[0].sum(dim=1).cpu()\n",
    "at_max = at.max()\n",
    "at_min = at.min()\n",
    "\n",
    "\n",
    "cum_attention = attention[:,0,:, pixel_i//8, pixel_j//8].sum(0)\n",
    "\n",
    "matplotlib.rcParams.update({'font.size': 18})\n",
    "\n",
    "gt = y[0,:,:,-1].cpu()\n",
    "clas = gt[pixel_i, pixel_j]\n",
    "\n",
    "fig, axes = plt.subplots((t//5) + 1,5, figsize=(20,20))\n",
    "axes = axes.ravel()\n",
    "\n",
    "for i in range(t):\n",
    "    axes[i].imshow(get_rgb(x, b=0, t_show=i)[:h,:h], alpha=.5)\n",
    "    t_plot = at[i]\n",
    "    #t_plot[abs(t_plot)<0.01] = np.nan\n",
    "    \n",
    "    axes[i].imshow(t_plot, cmap=redgreen, alpha=.7, vmin=at_min, vmax=at_max)\n",
    "    axes[i].set_xlabel(f'date {i+1}')\n",
    "    axes[i].set_xticks([])\n",
    "    axes[i].set_yticks([])\n",
    "    axes[i].text(32,5, 'Att: {:.2f}'.format(cum_attention[i]))\n",
    "\n",
    "\n",
    "    \n",
    "axes[-1].matshow(y[0,:h,:h,-1].cpu(), cmap=cmap, vmin=0, vmax=19)\n",
    "axes[-1].set_xlabel('Ground Truth / Red Point : interpreted prediction')\n",
    "axes[-2].set_xlabel('Semantic Segmentation')\n",
    "\n",
    "\n",
    "axes[-2].matshow(sempred[:h,:h], cmap=cmap, vmin=0, vmax=19)\n",
    "axes[-1].scatter(pixel_j, pixel_i,marker='o',color='r')\n",
    "axes[-2].scatter(pixel_j, pixel_i,marker='o',color='r')\n",
    "\n",
    "\n",
    "plt.show()\n",
    "\n",
    "\n",
    "fig, ax = plt.subplots()\n",
    "ca = cum_attention.cpu().numpy()\n",
    "exp = at.abs().sum((1,2)).cpu().numpy()\n",
    "ax.scatter(cum_attention.cpu(),at.abs().sum((1,2)).cpu())\n",
    "ax.set_xlabel('Attention')\n",
    "ax.set_ylabel('Integrated Gradient (abs)')\n",
    "\n",
    "lr = LinearRegression()\n",
    "lr.fit(ca.reshape(-1, 1), exp.reshape(-1, 1))\n",
    "line = (lr.intercept_ + lr.coef_ * ca).reshape(-1)\n",
    "\n",
    "#m = torch.cat([cum_attention.cpu(), at.sum((1,2)).abs()]).max().cpu()\n",
    "ax.plot(ca, line, color='g', linestyle='--')\n",
    "\n",
    "plt.show()\n",
    "\n"
   ]
  },
  {
   "cell_type": "markdown",
   "id": "e071009d",
   "metadata": {},
   "source": [
    "### Spatio-temporal explanation visualisation"
   ]
  },
  {
   "cell_type": "code",
   "execution_count": null,
   "id": "d68bb7df",
   "metadata": {},
   "outputs": [],
   "source": [
    "attributions.shape"
   ]
  },
  {
   "cell_type": "code",
   "execution_count": null,
   "id": "254e70e8",
   "metadata": {},
   "outputs": [],
   "source": [
    "B,T,C,H,W = attributions.shape\n",
    "\n",
    "distance_mask = np.zeros((H,W), dtype=int)\n",
    "for i in range(H):\n",
    "    for j in range(W):\n",
    "        distance_mask[i,j] = int(abs(i - pixel_i) + abs(j - pixel_j))\n",
    "        \n",
    "distances = np.unique(distance_mask)"
   ]
  },
  {
   "cell_type": "code",
   "execution_count": null,
   "id": "0504fd0c",
   "metadata": {},
   "outputs": [],
   "source": [
    "a = attributions[0].sum(1) #TxHxW\n",
    "stat = []\n",
    "\n",
    "\n",
    "for d in distances:\n",
    "    mask = distance_mask==d\n",
    "    values = a[:,mask]\n",
    "    stat.append(values.sum(-1))\n",
    "\n",
    "stat = torch.stack(stat)\n",
    "\n",
    "fig, ax = plt.subplots(figsize=(5,10))\n",
    "plt.colorbar(ax.imshow(stat.cpu()))\n",
    "ax.set_ylabel('Distance to explained pixel')\n",
    "ax.set_xlabel('Time')\n",
    "plt.show()"
   ]
  },
  {
   "cell_type": "code",
   "execution_count": null,
   "id": "eb5ffd18",
   "metadata": {},
   "outputs": [],
   "source": []
  }
 ],
 "metadata": {
  "kernelspec": {
   "display_name": "Python 3 (ipykernel)",
   "language": "python",
   "name": "python3"
  },
  "language_info": {
   "codemirror_mode": {
    "name": "ipython",
    "version": 3
   },
   "file_extension": ".py",
   "mimetype": "text/x-python",
   "name": "python",
   "nbconvert_exporter": "python",
   "pygments_lexer": "ipython3",
   "version": "3.9.7"
  }
 },
 "nbformat": 4,
 "nbformat_minor": 5
}
